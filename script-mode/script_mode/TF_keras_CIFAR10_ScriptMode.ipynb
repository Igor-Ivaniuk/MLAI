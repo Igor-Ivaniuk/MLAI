{
 "cells": [
  {
   "cell_type": "markdown",
   "metadata": {},
   "source": [
    "# Train and Host a Keras Sequential Model\n",
    "## Using script mode training\n",
    "This notebook shows how to train a Keras Sequential model on SageMaker. The model used for this notebook is a simple deep CNN that was extracted from [the Keras examples](https://github.com/keras-team/keras/blob/master/examples/cifar10_cnn.py)."
   ]
  },
  {
   "cell_type": "markdown",
   "metadata": {},
   "source": [
    "## The dataset\n",
    "The [CIFAR-10 dataset](https://www.cs.toronto.edu/~kriz/cifar.html) is one of the most popular machine learning datasets. It consists of 60,000 32x32 images belonging to 10 different classes (6,000 images per class). Here are the classes in the dataset, as well as 10 random images from each:\n",
    "\n",
    "![cifar10](https://maet3608.github.io/nuts-ml/_images/cifar10.png)\n",
    "\n",
    "In this tutorial, we will train a deep CNN to recognize these images.\n",
    "\n",
    "We'll compare trainig with file mode, pipe mode datasets and distributed training with Horovod"
   ]
  },
  {
   "cell_type": "markdown",
   "metadata": {},
   "source": [
    "## Set up the environment"
   ]
  },
  {
   "cell_type": "code",
   "execution_count": 1,
   "metadata": {},
   "outputs": [],
   "source": [
    "import os\n",
    "import sagemaker\n",
    "from sagemaker import get_execution_role\n",
    "\n",
    "sagemaker_session = sagemaker.Session()\n",
    "\n",
    "role = get_execution_role()"
   ]
  },
  {
   "cell_type": "markdown",
   "metadata": {},
   "source": [
    "## Download the CIFAR-10 dataset\n",
    "Downloading the test and training data takes around 5 minutes."
   ]
  },
  {
   "cell_type": "code",
   "execution_count": 2,
   "metadata": {},
   "outputs": [
    {
     "name": "stdout",
     "output_type": "stream",
     "text": [
      "WARNING:tensorflow:From /home/ec2-user/anaconda3/envs/tensorflow_p36/lib/python3.6/site-packages/tensorflow_core/__init__.py:1467: The name tf.estimator.inputs is deprecated. Please use tf.compat.v1.estimator.inputs instead.\n",
      "\n",
      "Download from https://www.cs.toronto.edu/~kriz/cifar-10-python.tar.gz and extract.\n",
      "WARNING:tensorflow:\n",
      "The TensorFlow contrib module will not be included in TensorFlow 2.0.\n",
      "For more information, please see:\n",
      "  * https://github.com/tensorflow/community/blob/master/rfcs/20180907-contrib-sunset.md\n",
      "  * https://github.com/tensorflow/addons\n",
      "  * https://github.com/tensorflow/io (for I/O related ops)\n",
      "If you depend on functionality not listed there, please file an issue.\n",
      "\n",
      "WARNING:tensorflow:From generate_cifar10_tfrecords_v1.x.py:34: maybe_download (from tensorflow.contrib.learn.python.learn.datasets.base) is deprecated and will be removed in a future version.\n",
      "Instructions for updating:\n",
      "Please write your own downloading logic.\n",
      "WARNING:tensorflow:From /home/ec2-user/anaconda3/envs/tensorflow_p36/lib/python3.6/site-packages/tensorflow_core/contrib/learn/python/learn/datasets/base.py:252: _internal_retry.<locals>.wrap.<locals>.wrapped_fn (from tensorflow.contrib.learn.python.learn.datasets.base) is deprecated and will be removed in a future version.\n",
      "Instructions for updating:\n",
      "Please use urllib or similar directly.\n",
      "Successfully downloaded cifar-10-python.tar.gz 170498071 bytes.\n",
      "Generating data//train/train.tfrecords\n",
      "WARNING:tensorflow:From generate_cifar10_tfrecords_v1.x.py:68: The name tf.python_io.TFRecordWriter is deprecated. Please use tf.io.TFRecordWriter instead.\n",
      "\n",
      "WARNING:tensorflow:From generate_cifar10_tfrecords_v1.x.py:57: The name tf.gfile.Open is deprecated. Please use tf.io.gfile.GFile instead.\n",
      "\n",
      "Generating data//validation/validation.tfrecords\n",
      "Generating data//eval/eval.tfrecords\n",
      "Done!\n"
     ]
    }
   ],
   "source": [
    "#!pip install wget\n",
    "# import wget # for TF2\n",
    "!python generate_cifar10_tfrecords_v1.x.py --data-dir data/"
   ]
  },
  {
   "cell_type": "markdown",
   "metadata": {},
   "source": [
    "## Run on SageMaker cloud"
   ]
  },
  {
   "cell_type": "markdown",
   "metadata": {},
   "source": [
    "### Uploading the data to s3"
   ]
  },
  {
   "cell_type": "code",
   "execution_count": 3,
   "metadata": {},
   "outputs": [
    {
     "data": {
      "text/plain": [
       "'s3://sagemaker-us-east-1-079329190341/data/DEMO-cifar10-tf'"
      ]
     },
     "metadata": {},
     "output_type": "display_data"
    }
   ],
   "source": [
    "dataset_location = sagemaker_session.upload_data(path='data', key_prefix='data/DEMO-cifar10-tf')\n",
    "display(dataset_location)"
   ]
  },
  {
   "cell_type": "markdown",
   "metadata": {},
   "source": [
    "### Configuring metrics from the job logs\n",
    "SageMaker can get training metrics directly from the logs and send them to CloudWatch metrics."
   ]
  },
  {
   "cell_type": "code",
   "execution_count": 5,
   "metadata": {},
   "outputs": [],
   "source": [
    "keras_metric_definition = [\n",
    "    {'Name': 'train:loss', 'Regex': '.*loss: ([0-9\\\\.]+) - acc: [0-9\\\\.]+.*'},\n",
    "    {'Name': 'train:accuracy', 'Regex': '.*loss: [0-9\\\\.]+ - acc: ([0-9\\\\.]+).*'},\n",
    "    {'Name': 'validation:accuracy', 'Regex': '.*step - loss: [0-9\\\\.]+ - acc: [0-9\\\\.]+ - val_loss: [0-9\\\\.]+ - val_acc: ([0-9\\\\.]+).*'},\n",
    "    {'Name': 'validation:loss', 'Regex': '.*step - loss: [0-9\\\\.]+ - acc: [0-9\\\\.]+ - val_loss: ([0-9\\\\.]+) - val_acc: [0-9\\\\.]+.*'},\n",
    "    {'Name': 'sec/steps', 'Regex': '.* - \\d+s (\\d+)[mu]s/step - loss: [0-9\\\\.]+ - acc: [0-9\\\\.]+ - val_loss: [0-9\\\\.]+ - val_acc: [0-9\\\\.]+'}\n",
    "]"
   ]
  },
  {
   "cell_type": "markdown",
   "metadata": {},
   "source": [
    "### Train image classification based on the cifar10 dataset"
   ]
  },
  {
   "cell_type": "code",
   "execution_count": 9,
   "metadata": {},
   "outputs": [],
   "source": [
    "hyperparameters = {'epochs': 10, 'batch-size' : 256}"
   ]
  },
  {
   "cell_type": "code",
   "execution_count": 10,
   "metadata": {},
   "outputs": [],
   "source": [
    "from sagemaker.tensorflow import TensorFlow\n",
    "\n",
    "\n",
    "source_dir = os.path.join(os.getcwd(), 'source_dir')\n",
    "estimator = TensorFlow(base_job_name='cifar10-tf',\n",
    "                       entry_point='cifar10_keras_main.py',\n",
    "                       source_dir=source_dir,\n",
    "                       role=role,\n",
    "                       framework_version='1.12.0',\n",
    "                       py_version='py3',\n",
    "                       hyperparameters=hyperparameters,\n",
    "                       train_instance_count=1, train_instance_type='local',\n",
    "                       metric_definitions=keras_metric_definition)"
   ]
  },
  {
   "cell_type": "code",
   "execution_count": null,
   "metadata": {},
   "outputs": [
    {
     "name": "stdout",
     "output_type": "stream",
     "text": [
      "Creating tmp1p3378se_algo-1-9we7p_1 ... \n",
      "\u001b[1BAttaching to tmp1p3378se_algo-1-9we7p_12mdone\u001b[0m\n",
      "\u001b[36malgo-1-9we7p_1  |\u001b[0m 2020-05-22 13:58:08,992 sagemaker-containers INFO     Imported framework sagemaker_tensorflow_container.training\n",
      "\u001b[36malgo-1-9we7p_1  |\u001b[0m 2020-05-22 13:58:08,996 sagemaker-containers INFO     No GPUs detected (normal if no gpus installed)\n",
      "\u001b[36malgo-1-9we7p_1  |\u001b[0m 2020-05-22 13:58:09,187 sagemaker-containers INFO     No GPUs detected (normal if no gpus installed)\n",
      "\u001b[36malgo-1-9we7p_1  |\u001b[0m 2020-05-22 13:58:09,200 sagemaker-containers INFO     No GPUs detected (normal if no gpus installed)\n",
      "\u001b[36malgo-1-9we7p_1  |\u001b[0m 2020-05-22 13:58:09,210 sagemaker-containers INFO     Invoking user script\n",
      "\u001b[36malgo-1-9we7p_1  |\u001b[0m \n",
      "\u001b[36malgo-1-9we7p_1  |\u001b[0m Training Env:\n",
      "\u001b[36malgo-1-9we7p_1  |\u001b[0m \n",
      "\u001b[36malgo-1-9we7p_1  |\u001b[0m {\n",
      "\u001b[36malgo-1-9we7p_1  |\u001b[0m     \"additional_framework_parameters\": {},\n",
      "\u001b[36malgo-1-9we7p_1  |\u001b[0m     \"channel_input_dirs\": {\n",
      "\u001b[36malgo-1-9we7p_1  |\u001b[0m         \"train\": \"/opt/ml/input/data/train\",\n",
      "\u001b[36malgo-1-9we7p_1  |\u001b[0m         \"validation\": \"/opt/ml/input/data/validation\",\n",
      "\u001b[36malgo-1-9we7p_1  |\u001b[0m         \"eval\": \"/opt/ml/input/data/eval\"\n",
      "\u001b[36malgo-1-9we7p_1  |\u001b[0m     },\n",
      "\u001b[36malgo-1-9we7p_1  |\u001b[0m     \"current_host\": \"algo-1-9we7p\",\n",
      "\u001b[36malgo-1-9we7p_1  |\u001b[0m     \"framework_module\": \"sagemaker_tensorflow_container.training:main\",\n",
      "\u001b[36malgo-1-9we7p_1  |\u001b[0m     \"hosts\": [\n",
      "\u001b[36malgo-1-9we7p_1  |\u001b[0m         \"algo-1-9we7p\"\n",
      "\u001b[36malgo-1-9we7p_1  |\u001b[0m     ],\n",
      "\u001b[36malgo-1-9we7p_1  |\u001b[0m     \"hyperparameters\": {\n",
      "\u001b[36malgo-1-9we7p_1  |\u001b[0m         \"epochs\": 10,\n",
      "\u001b[36malgo-1-9we7p_1  |\u001b[0m         \"batch-size\": 256,\n",
      "\u001b[36malgo-1-9we7p_1  |\u001b[0m         \"model_dir\": \"s3://sagemaker-us-east-1-079329190341/cifar10-tf-2020-05-22-13-58-04-244/model\"\n",
      "\u001b[36malgo-1-9we7p_1  |\u001b[0m     },\n",
      "\u001b[36malgo-1-9we7p_1  |\u001b[0m     \"input_config_dir\": \"/opt/ml/input/config\",\n",
      "\u001b[36malgo-1-9we7p_1  |\u001b[0m     \"input_data_config\": {\n",
      "\u001b[36malgo-1-9we7p_1  |\u001b[0m         \"train\": {\n",
      "\u001b[36malgo-1-9we7p_1  |\u001b[0m             \"TrainingInputMode\": \"File\"\n",
      "\u001b[36malgo-1-9we7p_1  |\u001b[0m         },\n",
      "\u001b[36malgo-1-9we7p_1  |\u001b[0m         \"validation\": {\n",
      "\u001b[36malgo-1-9we7p_1  |\u001b[0m             \"TrainingInputMode\": \"File\"\n",
      "\u001b[36malgo-1-9we7p_1  |\u001b[0m         },\n",
      "\u001b[36malgo-1-9we7p_1  |\u001b[0m         \"eval\": {\n",
      "\u001b[36malgo-1-9we7p_1  |\u001b[0m             \"TrainingInputMode\": \"File\"\n",
      "\u001b[36malgo-1-9we7p_1  |\u001b[0m         }\n",
      "\u001b[36malgo-1-9we7p_1  |\u001b[0m     },\n",
      "\u001b[36malgo-1-9we7p_1  |\u001b[0m     \"input_dir\": \"/opt/ml/input\",\n",
      "\u001b[36malgo-1-9we7p_1  |\u001b[0m     \"is_master\": true,\n",
      "\u001b[36malgo-1-9we7p_1  |\u001b[0m     \"job_name\": \"cifar10-tf-2020-05-22-13-58-04-244\",\n",
      "\u001b[36malgo-1-9we7p_1  |\u001b[0m     \"log_level\": 20,\n",
      "\u001b[36malgo-1-9we7p_1  |\u001b[0m     \"master_hostname\": \"algo-1-9we7p\",\n",
      "\u001b[36malgo-1-9we7p_1  |\u001b[0m     \"model_dir\": \"/opt/ml/model\",\n",
      "\u001b[36malgo-1-9we7p_1  |\u001b[0m     \"module_dir\": \"s3://sagemaker-us-east-1-079329190341/cifar10-tf-2020-05-22-13-58-04-244/source/sourcedir.tar.gz\",\n",
      "\u001b[36malgo-1-9we7p_1  |\u001b[0m     \"module_name\": \"cifar10_keras_main\",\n",
      "\u001b[36malgo-1-9we7p_1  |\u001b[0m     \"network_interface_name\": \"eth0\",\n",
      "\u001b[36malgo-1-9we7p_1  |\u001b[0m     \"num_cpus\": 16,\n",
      "\u001b[36malgo-1-9we7p_1  |\u001b[0m     \"num_gpus\": 0,\n",
      "\u001b[36malgo-1-9we7p_1  |\u001b[0m     \"output_data_dir\": \"/opt/ml/output/data\",\n",
      "\u001b[36malgo-1-9we7p_1  |\u001b[0m     \"output_dir\": \"/opt/ml/output\",\n",
      "\u001b[36malgo-1-9we7p_1  |\u001b[0m     \"output_intermediate_dir\": \"/opt/ml/output/intermediate\",\n",
      "\u001b[36malgo-1-9we7p_1  |\u001b[0m     \"resource_config\": {\n",
      "\u001b[36malgo-1-9we7p_1  |\u001b[0m         \"current_host\": \"algo-1-9we7p\",\n",
      "\u001b[36malgo-1-9we7p_1  |\u001b[0m         \"hosts\": [\n",
      "\u001b[36malgo-1-9we7p_1  |\u001b[0m             \"algo-1-9we7p\"\n",
      "\u001b[36malgo-1-9we7p_1  |\u001b[0m         ]\n",
      "\u001b[36malgo-1-9we7p_1  |\u001b[0m     },\n",
      "\u001b[36malgo-1-9we7p_1  |\u001b[0m     \"user_entry_point\": \"cifar10_keras_main.py\"\n",
      "\u001b[36malgo-1-9we7p_1  |\u001b[0m }\n",
      "\u001b[36malgo-1-9we7p_1  |\u001b[0m \n",
      "\u001b[36malgo-1-9we7p_1  |\u001b[0m Environment variables:\n",
      "\u001b[36malgo-1-9we7p_1  |\u001b[0m \n",
      "\u001b[36malgo-1-9we7p_1  |\u001b[0m SM_HOSTS=[\"algo-1-9we7p\"]\n",
      "\u001b[36malgo-1-9we7p_1  |\u001b[0m SM_NETWORK_INTERFACE_NAME=eth0\n",
      "\u001b[36malgo-1-9we7p_1  |\u001b[0m SM_HPS={\"batch-size\":256,\"epochs\":10,\"model_dir\":\"s3://sagemaker-us-east-1-079329190341/cifar10-tf-2020-05-22-13-58-04-244/model\"}\n",
      "\u001b[36malgo-1-9we7p_1  |\u001b[0m SM_USER_ENTRY_POINT=cifar10_keras_main.py\n",
      "\u001b[36malgo-1-9we7p_1  |\u001b[0m SM_FRAMEWORK_PARAMS={}\n",
      "\u001b[36malgo-1-9we7p_1  |\u001b[0m SM_RESOURCE_CONFIG={\"current_host\":\"algo-1-9we7p\",\"hosts\":[\"algo-1-9we7p\"]}\n",
      "\u001b[36malgo-1-9we7p_1  |\u001b[0m SM_INPUT_DATA_CONFIG={\"eval\":{\"TrainingInputMode\":\"File\"},\"train\":{\"TrainingInputMode\":\"File\"},\"validation\":{\"TrainingInputMode\":\"File\"}}\n",
      "\u001b[36malgo-1-9we7p_1  |\u001b[0m SM_OUTPUT_DATA_DIR=/opt/ml/output/data\n",
      "\u001b[36malgo-1-9we7p_1  |\u001b[0m SM_CHANNELS=[\"eval\",\"train\",\"validation\"]\n",
      "\u001b[36malgo-1-9we7p_1  |\u001b[0m SM_CURRENT_HOST=algo-1-9we7p\n",
      "\u001b[36malgo-1-9we7p_1  |\u001b[0m SM_MODULE_NAME=cifar10_keras_main\n",
      "\u001b[36malgo-1-9we7p_1  |\u001b[0m SM_LOG_LEVEL=20\n",
      "\u001b[36malgo-1-9we7p_1  |\u001b[0m SM_FRAMEWORK_MODULE=sagemaker_tensorflow_container.training:main\n",
      "\u001b[36malgo-1-9we7p_1  |\u001b[0m SM_INPUT_DIR=/opt/ml/input\n",
      "\u001b[36malgo-1-9we7p_1  |\u001b[0m SM_INPUT_CONFIG_DIR=/opt/ml/input/config\n",
      "\u001b[36malgo-1-9we7p_1  |\u001b[0m SM_OUTPUT_DIR=/opt/ml/output\n",
      "\u001b[36malgo-1-9we7p_1  |\u001b[0m SM_NUM_CPUS=16\n",
      "\u001b[36malgo-1-9we7p_1  |\u001b[0m SM_NUM_GPUS=0\n",
      "\u001b[36malgo-1-9we7p_1  |\u001b[0m SM_MODEL_DIR=/opt/ml/model\n",
      "\u001b[36malgo-1-9we7p_1  |\u001b[0m SM_MODULE_DIR=s3://sagemaker-us-east-1-079329190341/cifar10-tf-2020-05-22-13-58-04-244/source/sourcedir.tar.gz\n",
      "\u001b[36malgo-1-9we7p_1  |\u001b[0m SM_TRAINING_ENV={\"additional_framework_parameters\":{},\"channel_input_dirs\":{\"eval\":\"/opt/ml/input/data/eval\",\"train\":\"/opt/ml/input/data/train\",\"validation\":\"/opt/ml/input/data/validation\"},\"current_host\":\"algo-1-9we7p\",\"framework_module\":\"sagemaker_tensorflow_container.training:main\",\"hosts\":[\"algo-1-9we7p\"],\"hyperparameters\":{\"batch-size\":256,\"epochs\":10,\"model_dir\":\"s3://sagemaker-us-east-1-079329190341/cifar10-tf-2020-05-22-13-58-04-244/model\"},\"input_config_dir\":\"/opt/ml/input/config\",\"input_data_config\":{\"eval\":{\"TrainingInputMode\":\"File\"},\"train\":{\"TrainingInputMode\":\"File\"},\"validation\":{\"TrainingInputMode\":\"File\"}},\"input_dir\":\"/opt/ml/input\",\"is_master\":true,\"job_name\":\"cifar10-tf-2020-05-22-13-58-04-244\",\"log_level\":20,\"master_hostname\":\"algo-1-9we7p\",\"model_dir\":\"/opt/ml/model\",\"module_dir\":\"s3://sagemaker-us-east-1-079329190341/cifar10-tf-2020-05-22-13-58-04-244/source/sourcedir.tar.gz\",\"module_name\":\"cifar10_keras_main\",\"network_interface_name\":\"eth0\",\"num_cpus\":16,\"num_gpus\":0,\"output_data_dir\":\"/opt/ml/output/data\",\"output_dir\":\"/opt/ml/output\",\"output_intermediate_dir\":\"/opt/ml/output/intermediate\",\"resource_config\":{\"current_host\":\"algo-1-9we7p\",\"hosts\":[\"algo-1-9we7p\"]},\"user_entry_point\":\"cifar10_keras_main.py\"}\n",
      "\u001b[36malgo-1-9we7p_1  |\u001b[0m SM_USER_ARGS=[\"--batch-size\",\"256\",\"--epochs\",\"10\",\"--model_dir\",\"s3://sagemaker-us-east-1-079329190341/cifar10-tf-2020-05-22-13-58-04-244/model\"]\n",
      "\u001b[36malgo-1-9we7p_1  |\u001b[0m SM_OUTPUT_INTERMEDIATE_DIR=/opt/ml/output/intermediate\n",
      "\u001b[36malgo-1-9we7p_1  |\u001b[0m SM_CHANNEL_TRAIN=/opt/ml/input/data/train\n",
      "\u001b[36malgo-1-9we7p_1  |\u001b[0m SM_CHANNEL_VALIDATION=/opt/ml/input/data/validation\n",
      "\u001b[36malgo-1-9we7p_1  |\u001b[0m SM_CHANNEL_EVAL=/opt/ml/input/data/eval\n",
      "\u001b[36malgo-1-9we7p_1  |\u001b[0m SM_HP_EPOCHS=10\n",
      "\u001b[36malgo-1-9we7p_1  |\u001b[0m SM_HP_BATCH-SIZE=256\n",
      "\u001b[36malgo-1-9we7p_1  |\u001b[0m SM_HP_MODEL_DIR=s3://sagemaker-us-east-1-079329190341/cifar10-tf-2020-05-22-13-58-04-244/model\n",
      "\u001b[36malgo-1-9we7p_1  |\u001b[0m PYTHONPATH=/opt/ml/code:/usr/local/bin:/usr/lib/python36.zip:/usr/lib/python3.6:/usr/lib/python3.6/lib-dynload:/usr/local/lib/python3.6/dist-packages:/usr/lib/python3/dist-packages\n",
      "\u001b[36malgo-1-9we7p_1  |\u001b[0m \n",
      "\u001b[36malgo-1-9we7p_1  |\u001b[0m Invoking script with the following command:\n",
      "\u001b[36malgo-1-9we7p_1  |\u001b[0m \n",
      "\u001b[36malgo-1-9we7p_1  |\u001b[0m /usr/bin/python cifar10_keras_main.py --batch-size 256 --epochs 10 --model_dir s3://sagemaker-us-east-1-079329190341/cifar10-tf-2020-05-22-13-58-04-244/model\n",
      "\u001b[36malgo-1-9we7p_1  |\u001b[0m \n",
      "\u001b[36malgo-1-9we7p_1  |\u001b[0m \n",
      "\u001b[36malgo-1-9we7p_1  |\u001b[0m Using TensorFlow backend.\n",
      "\u001b[36malgo-1-9we7p_1  |\u001b[0m INFO:root:getting data\n",
      "\u001b[36malgo-1-9we7p_1  |\u001b[0m INFO:root:Running train \n",
      "\u001b[36malgo-1-9we7p_1  |\u001b[0m INFO:root:Running eval \n",
      "\u001b[36malgo-1-9we7p_1  |\u001b[0m INFO:root:Running validation \n",
      "\u001b[36malgo-1-9we7p_1  |\u001b[0m INFO:root:configuring model\n",
      "\u001b[36malgo-1-9we7p_1  |\u001b[0m INFO:root:Starting training\n",
      "\u001b[36malgo-1-9we7p_1  |\u001b[0m Train on 256 samples, validate on 256 samples\n",
      "\u001b[36malgo-1-9we7p_1  |\u001b[0m Epoch 1/10\n",
      "156/156 [==============================] - 35s 225ms/step - loss: 1.9358 - acc: 0.2935 - val_loss: 3.0187 - val_acc: 0.1390\n",
      "\u001b[36malgo-1-9we7p_1  |\u001b[0m Epoch 2/10\n"
     ]
    }
   ],
   "source": [
    "remote_inputs = {'train' : dataset_location+'/train', 'validation' : dataset_location+'/validation', 'eval' : dataset_location+'/eval'}\n",
    "estimator.fit(remote_inputs, wait=True)"
   ]
  },
  {
   "cell_type": "markdown",
   "metadata": {},
   "source": [
    "### View the job training metrics\n",
    "SageMaker used the regular expression configured above, to send the job metrics to CloudWatch metrics.\n",
    "You can now view the job metrics directly from the SageMaker console.  \n",
    "\n",
    "login to the [SageMaker console](https://console.aws.amazon.com/sagemaker/home) choose the latest training job, scroll down to the monitor section.  \n",
    "Using CloudWatch metrics, you can change the period and configure the statistics"
   ]
  },
  {
   "cell_type": "code",
   "execution_count": 9,
   "metadata": {},
   "outputs": [
    {
     "data": {
      "text/markdown": [
       "CloudWatch metrics: [link](https://console.aws.amazon.com/cloudwatch/home?region=us-east-1#metricsV2:query=%7B/aws/sagemaker/TrainingJobs,TrainingJobName%7D%20cifar10-tf-2020-05-05-19-24-30-359)"
      ],
      "text/plain": [
       "<IPython.core.display.Markdown object>"
      ]
     },
     "metadata": {},
     "output_type": "display_data"
    },
    {
     "data": {
      "text/markdown": [
       "After you choose a metric, change the period to 1 Minute (Graphed Metrics -> Period)"
      ],
      "text/plain": [
       "<IPython.core.display.Markdown object>"
      ]
     },
     "metadata": {},
     "output_type": "display_data"
    }
   ],
   "source": [
    "from IPython.core.display import Markdown\n",
    "\n",
    "link = 'https://console.aws.amazon.com/cloudwatch/home?region='+sagemaker_session.boto_region_name+'#metricsV2:query=%7B/aws/sagemaker/TrainingJobs,TrainingJobName%7D%20'+estimator.latest_training_job.job_name\n",
    "display(Markdown('CloudWatch metrics: [link]('+link+')'))\n",
    "display(Markdown('After you choose a metric, change the period to 1 Minute (Graphed Metrics -> Period)'))"
   ]
  }
 ],
 "metadata": {
  "instance_type": "ml.g4dn.xlarge",
  "kernelspec": {
   "display_name": "conda_tensorflow_p36",
   "language": "python",
   "name": "conda_tensorflow_p36"
  },
  "language_info": {
   "codemirror_mode": {
    "name": "ipython",
    "version": 3
   },
   "file_extension": ".py",
   "mimetype": "text/x-python",
   "name": "python",
   "nbconvert_exporter": "python",
   "pygments_lexer": "ipython3",
   "version": "3.6.6"
  },
  "notice": "Copyright 2017 Amazon.com, Inc. or its affiliates. All Rights Reserved.  Licensed under the Apache License, Version 2.0 (the \"License\"). You may not use this file except in compliance with the License. A copy of the License is located at http://aws.amazon.com/apache2.0/ or in the \"license\" file accompanying this file. This file is distributed on an \"AS IS\" BASIS, WITHOUT WARRANTIES OR CONDITIONS OF ANY KIND, either express or implied. See the License for the specific language governing permissions and limitations under the License.",
  "pycharm": {
   "stem_cell": {
    "cell_type": "raw",
    "metadata": {
     "collapsed": false
    },
    "source": []
   }
  }
 },
 "nbformat": 4,
 "nbformat_minor": 4
}
