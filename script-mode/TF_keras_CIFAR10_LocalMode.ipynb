{
 "cells": [
  {
   "cell_type": "markdown",
   "metadata": {},
   "source": [
    "# Train and Host a Keras Sequential Model\n",
    "## Using Pipe Mode datasets and distributed training with Horovod\n",
    "This notebook shows how to train and host a Keras Sequential model on SageMaker. The model used for this notebook is a simple deep CNN that was extracted from [the Keras examples](https://github.com/keras-team/keras/blob/master/examples/cifar10_cnn.py)."
   ]
  },
  {
   "cell_type": "markdown",
   "metadata": {},
   "source": [
    "## The dataset\n",
    "The [CIFAR-10 dataset](https://www.cs.toronto.edu/~kriz/cifar.html) is one of the most popular machine learning datasets. It consists of 60,000 32x32 images belonging to 10 different classes (6,000 images per class). Here are the classes in the dataset, as well as 10 random images from each:\n",
    "\n",
    "![cifar10](https://maet3608.github.io/nuts-ml/_images/cifar10.png)\n",
    "\n",
    "In this tutorial, we will train a deep CNN to recognize these images.\n",
    "\n",
    "We'll compare trainig with file mode, pipe mode datasets and distributed training with Horovod"
   ]
  },
  {
   "cell_type": "markdown",
   "metadata": {},
   "source": [
    "## Set up the environment"
   ]
  },
  {
   "cell_type": "code",
   "execution_count": 1,
   "metadata": {},
   "outputs": [],
   "source": [
    "import os\n",
    "import sagemaker\n",
    "from sagemaker import get_execution_role\n",
    "\n",
    "sagemaker_session = sagemaker.Session()\n",
    "\n",
    "role = get_execution_role()"
   ]
  },
  {
   "cell_type": "markdown",
   "metadata": {},
   "source": [
    "## Download the CIFAR-10 dataset\n",
    "Downloading the test and training data takes around 5 minutes."
   ]
  },
  {
   "cell_type": "code",
   "execution_count": 2,
   "metadata": {},
   "outputs": [
    {
     "name": "stdout",
     "output_type": "stream",
     "text": [
      "WARNING:tensorflow:From /home/ec2-user/anaconda3/envs/tensorflow_p36/lib/python3.6/site-packages/tensorflow_core/__init__.py:1467: The name tf.estimator.inputs is deprecated. Please use tf.compat.v1.estimator.inputs instead.\n",
      "\n"
     ]
    }
   ],
   "source": [
    "import tensorflow as tf"
   ]
  },
  {
   "cell_type": "code",
   "execution_count": 3,
   "metadata": {},
   "outputs": [
    {
     "data": {
      "text/plain": [
       "'1.15.0'"
      ]
     },
     "execution_count": 3,
     "metadata": {},
     "output_type": "execute_result"
    }
   ],
   "source": [
    "tf.__version__"
   ]
  },
  {
   "cell_type": "code",
   "execution_count": 4,
   "metadata": {},
   "outputs": [
    {
     "name": "stdout",
     "output_type": "stream",
     "text": [
      "/home/ec2-user/SageMaker/MLAI/script-mode\n"
     ]
    }
   ],
   "source": [
    "!pwd"
   ]
  },
  {
   "cell_type": "code",
   "execution_count": 7,
   "metadata": {},
   "outputs": [
    {
     "name": "stdout",
     "output_type": "stream",
     "text": [
      "Collecting wget\n",
      "  Using cached wget-3.2.zip (10 kB)\n",
      "Building wheels for collected packages: wget\n",
      "  Building wheel for wget (setup.py) ... \u001b[?25ldone\n",
      "\u001b[?25h  Created wheel for wget: filename=wget-3.2-py3-none-any.whl size=9681 sha256=bed51e161a34013e340f106ddd671cc20f9f58c2491554c0886a5d5ad916515e\n",
      "  Stored in directory: /root/.cache/pip/wheels/90/1d/93/c863ee832230df5cfc25ca497b3e88e0ee3ea9e44adc46ac62\n",
      "Successfully built wget\n",
      "Installing collected packages: wget\n",
      "Successfully installed wget-3.2\n",
      "\u001b[33mWARNING: You are using pip version 20.0.2; however, version 20.1 is available.\n",
      "You should consider upgrading via the '/usr/bin/python3 -m pip install --upgrade pip' command.\u001b[0m\n"
     ]
    }
   ],
   "source": [
    "!pip install wget"
   ]
  },
  {
   "cell_type": "code",
   "execution_count": 8,
   "metadata": {},
   "outputs": [],
   "source": [
    "import wget"
   ]
  },
  {
   "cell_type": "code",
   "execution_count": 7,
   "metadata": {},
   "outputs": [
    {
     "name": "stdout",
     "output_type": "stream",
     "text": [
      "WARNING:tensorflow:From /home/ec2-user/anaconda3/envs/tensorflow_p36/lib/python3.6/site-packages/tensorflow_core/__init__.py:1467: The name tf.estimator.inputs is deprecated. Please use tf.compat.v1.estimator.inputs instead.\n",
      "\n",
      "Download from https://www.cs.toronto.edu/~kriz/cifar-10-python.tar.gz and extract.\n",
      "WARNING:tensorflow:\n",
      "The TensorFlow contrib module will not be included in TensorFlow 2.0.\n",
      "For more information, please see:\n",
      "  * https://github.com/tensorflow/community/blob/master/rfcs/20180907-contrib-sunset.md\n",
      "  * https://github.com/tensorflow/addons\n",
      "  * https://github.com/tensorflow/io (for I/O related ops)\n",
      "If you depend on functionality not listed there, please file an issue.\n",
      "\n",
      "WARNING:tensorflow:From generate_cifar10_tfrecords_v1.x.py:34: maybe_download (from tensorflow.contrib.learn.python.learn.datasets.base) is deprecated and will be removed in a future version.\n",
      "Instructions for updating:\n",
      "Please write your own downloading logic.\n",
      "WARNING:tensorflow:From /home/ec2-user/anaconda3/envs/tensorflow_p36/lib/python3.6/site-packages/tensorflow_core/contrib/learn/python/learn/datasets/base.py:252: _internal_retry.<locals>.wrap.<locals>.wrapped_fn (from tensorflow.contrib.learn.python.learn.datasets.base) is deprecated and will be removed in a future version.\n",
      "Instructions for updating:\n",
      "Please use urllib or similar directly.\n",
      "Successfully downloaded cifar-10-python.tar.gz 170498071 bytes.\n",
      "Generating data//train/train.tfrecords\n",
      "WARNING:tensorflow:From generate_cifar10_tfrecords_v1.x.py:68: The name tf.python_io.TFRecordWriter is deprecated. Please use tf.io.TFRecordWriter instead.\n",
      "\n",
      "WARNING:tensorflow:From generate_cifar10_tfrecords_v1.x.py:57: The name tf.gfile.Open is deprecated. Please use tf.io.gfile.GFile instead.\n",
      "\n",
      "Generating data//validation/validation.tfrecords\n",
      "Generating data//eval/eval.tfrecords\n",
      "Done!\n"
     ]
    }
   ],
   "source": [
    "!python generate_cifar10_tfrecords_v1.x.py --data-dir data/"
   ]
  },
  {
   "cell_type": "markdown",
   "metadata": {},
   "source": [
    "## Create a training job using the sagemaker.TensorFlow estimator, running locally\n",
    "To test that the code will work in SageMaker, we'll first use SageMaker local mode."
   ]
  },
  {
   "cell_type": "code",
   "execution_count": 9,
   "metadata": {},
   "outputs": [
    {
     "name": "stdout",
     "output_type": "stream",
     "text": [
      "local\n"
     ]
    }
   ],
   "source": [
    "from sagemaker.tensorflow import TensorFlow\n",
    "\n",
    "import subprocess\n",
    "instance_type = 'local'\n",
    "print(instance_type)\n",
    "if subprocess.call('nvidia-smi') == 0:\n",
    "    ## Set type to GPU if one is present\n",
    "    instance_type = 'local_gpu'\n",
    "    \n",
    "local_hyperparameters = {'epochs': 2, 'batch-size' : 64}\n",
    "\n",
    "source_dir = os.path.join(os.getcwd(), 'source_dir')\n",
    "estimator = TensorFlow(entry_point='cifar10_keras_main.py',\n",
    "                       source_dir=source_dir,\n",
    "                       role=role,\n",
    "                       framework_version='1.12.0',\n",
    "                       py_version='py3',\n",
    "                       hyperparameters=local_hyperparameters,\n",
    "                       train_instance_count=1, train_instance_type=instance_type)"
   ]
  },
  {
   "cell_type": "code",
   "execution_count": 10,
   "metadata": {},
   "outputs": [
    {
     "name": "stdout",
     "output_type": "stream",
     "text": [
      "Creating tmpiaba668c_algo-1-bs0ry_1 ... \n",
      "\u001b[1BAttaching to tmpiaba668c_algo-1-bs0ry_12mdone\u001b[0m\n",
      "\u001b[36malgo-1-bs0ry_1  |\u001b[0m 2020-05-05 19:08:00,915 sagemaker-containers INFO     Imported framework sagemaker_tensorflow_container.training\n",
      "\u001b[36malgo-1-bs0ry_1  |\u001b[0m 2020-05-05 19:08:00,922 sagemaker-containers INFO     No GPUs detected (normal if no gpus installed)\n",
      "\u001b[36malgo-1-bs0ry_1  |\u001b[0m 2020-05-05 19:08:01,848 sagemaker-containers INFO     No GPUs detected (normal if no gpus installed)\n",
      "\u001b[36malgo-1-bs0ry_1  |\u001b[0m 2020-05-05 19:08:01,861 sagemaker-containers INFO     No GPUs detected (normal if no gpus installed)\n",
      "\u001b[36malgo-1-bs0ry_1  |\u001b[0m 2020-05-05 19:08:01,871 sagemaker-containers INFO     Invoking user script\n",
      "\u001b[36malgo-1-bs0ry_1  |\u001b[0m \n",
      "\u001b[36malgo-1-bs0ry_1  |\u001b[0m Training Env:\n",
      "\u001b[36malgo-1-bs0ry_1  |\u001b[0m \n",
      "\u001b[36malgo-1-bs0ry_1  |\u001b[0m {\n",
      "\u001b[36malgo-1-bs0ry_1  |\u001b[0m     \"additional_framework_parameters\": {},\n",
      "\u001b[36malgo-1-bs0ry_1  |\u001b[0m     \"channel_input_dirs\": {\n",
      "\u001b[36malgo-1-bs0ry_1  |\u001b[0m         \"train\": \"/opt/ml/input/data/train\",\n",
      "\u001b[36malgo-1-bs0ry_1  |\u001b[0m         \"validation\": \"/opt/ml/input/data/validation\",\n",
      "\u001b[36malgo-1-bs0ry_1  |\u001b[0m         \"eval\": \"/opt/ml/input/data/eval\"\n",
      "\u001b[36malgo-1-bs0ry_1  |\u001b[0m     },\n",
      "\u001b[36malgo-1-bs0ry_1  |\u001b[0m     \"current_host\": \"algo-1-bs0ry\",\n",
      "\u001b[36malgo-1-bs0ry_1  |\u001b[0m     \"framework_module\": \"sagemaker_tensorflow_container.training:main\",\n",
      "\u001b[36malgo-1-bs0ry_1  |\u001b[0m     \"hosts\": [\n",
      "\u001b[36malgo-1-bs0ry_1  |\u001b[0m         \"algo-1-bs0ry\"\n",
      "\u001b[36malgo-1-bs0ry_1  |\u001b[0m     ],\n",
      "\u001b[36malgo-1-bs0ry_1  |\u001b[0m     \"hyperparameters\": {\n",
      "\u001b[36malgo-1-bs0ry_1  |\u001b[0m         \"epochs\": 2,\n",
      "\u001b[36malgo-1-bs0ry_1  |\u001b[0m         \"batch-size\": 64,\n",
      "\u001b[36malgo-1-bs0ry_1  |\u001b[0m         \"model_dir\": \"s3://sagemaker-us-east-1-079329190341/sagemaker-tensorflow-scriptmode-2020-05-05-19-07-53-406/model\"\n",
      "\u001b[36malgo-1-bs0ry_1  |\u001b[0m     },\n",
      "\u001b[36malgo-1-bs0ry_1  |\u001b[0m     \"input_config_dir\": \"/opt/ml/input/config\",\n",
      "\u001b[36malgo-1-bs0ry_1  |\u001b[0m     \"input_data_config\": {\n",
      "\u001b[36malgo-1-bs0ry_1  |\u001b[0m         \"train\": {\n",
      "\u001b[36malgo-1-bs0ry_1  |\u001b[0m             \"TrainingInputMode\": \"File\"\n",
      "\u001b[36malgo-1-bs0ry_1  |\u001b[0m         },\n",
      "\u001b[36malgo-1-bs0ry_1  |\u001b[0m         \"validation\": {\n",
      "\u001b[36malgo-1-bs0ry_1  |\u001b[0m             \"TrainingInputMode\": \"File\"\n",
      "\u001b[36malgo-1-bs0ry_1  |\u001b[0m         },\n",
      "\u001b[36malgo-1-bs0ry_1  |\u001b[0m         \"eval\": {\n",
      "\u001b[36malgo-1-bs0ry_1  |\u001b[0m             \"TrainingInputMode\": \"File\"\n",
      "\u001b[36malgo-1-bs0ry_1  |\u001b[0m         }\n",
      "\u001b[36malgo-1-bs0ry_1  |\u001b[0m     },\n",
      "\u001b[36malgo-1-bs0ry_1  |\u001b[0m     \"input_dir\": \"/opt/ml/input\",\n",
      "\u001b[36malgo-1-bs0ry_1  |\u001b[0m     \"is_master\": true,\n",
      "\u001b[36malgo-1-bs0ry_1  |\u001b[0m     \"job_name\": \"sagemaker-tensorflow-scriptmode-2020-05-05-19-07-53-406\",\n",
      "\u001b[36malgo-1-bs0ry_1  |\u001b[0m     \"log_level\": 20,\n",
      "\u001b[36malgo-1-bs0ry_1  |\u001b[0m     \"master_hostname\": \"algo-1-bs0ry\",\n",
      "\u001b[36malgo-1-bs0ry_1  |\u001b[0m     \"model_dir\": \"/opt/ml/model\",\n",
      "\u001b[36malgo-1-bs0ry_1  |\u001b[0m     \"module_dir\": \"s3://sagemaker-us-east-1-079329190341/sagemaker-tensorflow-scriptmode-2020-05-05-19-07-53-406/source/sourcedir.tar.gz\",\n",
      "\u001b[36malgo-1-bs0ry_1  |\u001b[0m     \"module_name\": \"cifar10_keras_main\",\n",
      "\u001b[36malgo-1-bs0ry_1  |\u001b[0m     \"network_interface_name\": \"eth0\",\n",
      "\u001b[36malgo-1-bs0ry_1  |\u001b[0m     \"num_cpus\": 16,\n",
      "\u001b[36malgo-1-bs0ry_1  |\u001b[0m     \"num_gpus\": 0,\n",
      "\u001b[36malgo-1-bs0ry_1  |\u001b[0m     \"output_data_dir\": \"/opt/ml/output/data\",\n",
      "\u001b[36malgo-1-bs0ry_1  |\u001b[0m     \"output_dir\": \"/opt/ml/output\",\n",
      "\u001b[36malgo-1-bs0ry_1  |\u001b[0m     \"output_intermediate_dir\": \"/opt/ml/output/intermediate\",\n",
      "\u001b[36malgo-1-bs0ry_1  |\u001b[0m     \"resource_config\": {\n",
      "\u001b[36malgo-1-bs0ry_1  |\u001b[0m         \"current_host\": \"algo-1-bs0ry\",\n",
      "\u001b[36malgo-1-bs0ry_1  |\u001b[0m         \"hosts\": [\n",
      "\u001b[36malgo-1-bs0ry_1  |\u001b[0m             \"algo-1-bs0ry\"\n",
      "\u001b[36malgo-1-bs0ry_1  |\u001b[0m         ]\n",
      "\u001b[36malgo-1-bs0ry_1  |\u001b[0m     },\n",
      "\u001b[36malgo-1-bs0ry_1  |\u001b[0m     \"user_entry_point\": \"cifar10_keras_main.py\"\n",
      "\u001b[36malgo-1-bs0ry_1  |\u001b[0m }\n",
      "\u001b[36malgo-1-bs0ry_1  |\u001b[0m \n",
      "\u001b[36malgo-1-bs0ry_1  |\u001b[0m Environment variables:\n",
      "\u001b[36malgo-1-bs0ry_1  |\u001b[0m \n",
      "\u001b[36malgo-1-bs0ry_1  |\u001b[0m SM_HOSTS=[\"algo-1-bs0ry\"]\n",
      "\u001b[36malgo-1-bs0ry_1  |\u001b[0m SM_NETWORK_INTERFACE_NAME=eth0\n",
      "\u001b[36malgo-1-bs0ry_1  |\u001b[0m SM_HPS={\"batch-size\":64,\"epochs\":2,\"model_dir\":\"s3://sagemaker-us-east-1-079329190341/sagemaker-tensorflow-scriptmode-2020-05-05-19-07-53-406/model\"}\n",
      "\u001b[36malgo-1-bs0ry_1  |\u001b[0m SM_USER_ENTRY_POINT=cifar10_keras_main.py\n",
      "\u001b[36malgo-1-bs0ry_1  |\u001b[0m SM_FRAMEWORK_PARAMS={}\n",
      "\u001b[36malgo-1-bs0ry_1  |\u001b[0m SM_RESOURCE_CONFIG={\"current_host\":\"algo-1-bs0ry\",\"hosts\":[\"algo-1-bs0ry\"]}\n",
      "\u001b[36malgo-1-bs0ry_1  |\u001b[0m SM_INPUT_DATA_CONFIG={\"eval\":{\"TrainingInputMode\":\"File\"},\"train\":{\"TrainingInputMode\":\"File\"},\"validation\":{\"TrainingInputMode\":\"File\"}}\n",
      "\u001b[36malgo-1-bs0ry_1  |\u001b[0m SM_OUTPUT_DATA_DIR=/opt/ml/output/data\n",
      "\u001b[36malgo-1-bs0ry_1  |\u001b[0m SM_CHANNELS=[\"eval\",\"train\",\"validation\"]\n",
      "\u001b[36malgo-1-bs0ry_1  |\u001b[0m SM_CURRENT_HOST=algo-1-bs0ry\n",
      "\u001b[36malgo-1-bs0ry_1  |\u001b[0m SM_MODULE_NAME=cifar10_keras_main\n",
      "\u001b[36malgo-1-bs0ry_1  |\u001b[0m SM_LOG_LEVEL=20\n",
      "\u001b[36malgo-1-bs0ry_1  |\u001b[0m SM_FRAMEWORK_MODULE=sagemaker_tensorflow_container.training:main\n",
      "\u001b[36malgo-1-bs0ry_1  |\u001b[0m SM_INPUT_DIR=/opt/ml/input\n",
      "\u001b[36malgo-1-bs0ry_1  |\u001b[0m SM_INPUT_CONFIG_DIR=/opt/ml/input/config\n",
      "\u001b[36malgo-1-bs0ry_1  |\u001b[0m SM_OUTPUT_DIR=/opt/ml/output\n",
      "\u001b[36malgo-1-bs0ry_1  |\u001b[0m SM_NUM_CPUS=16\n",
      "\u001b[36malgo-1-bs0ry_1  |\u001b[0m SM_NUM_GPUS=0\n",
      "\u001b[36malgo-1-bs0ry_1  |\u001b[0m SM_MODEL_DIR=/opt/ml/model\n",
      "\u001b[36malgo-1-bs0ry_1  |\u001b[0m SM_MODULE_DIR=s3://sagemaker-us-east-1-079329190341/sagemaker-tensorflow-scriptmode-2020-05-05-19-07-53-406/source/sourcedir.tar.gz\n",
      "\u001b[36malgo-1-bs0ry_1  |\u001b[0m SM_TRAINING_ENV={\"additional_framework_parameters\":{},\"channel_input_dirs\":{\"eval\":\"/opt/ml/input/data/eval\",\"train\":\"/opt/ml/input/data/train\",\"validation\":\"/opt/ml/input/data/validation\"},\"current_host\":\"algo-1-bs0ry\",\"framework_module\":\"sagemaker_tensorflow_container.training:main\",\"hosts\":[\"algo-1-bs0ry\"],\"hyperparameters\":{\"batch-size\":64,\"epochs\":2,\"model_dir\":\"s3://sagemaker-us-east-1-079329190341/sagemaker-tensorflow-scriptmode-2020-05-05-19-07-53-406/model\"},\"input_config_dir\":\"/opt/ml/input/config\",\"input_data_config\":{\"eval\":{\"TrainingInputMode\":\"File\"},\"train\":{\"TrainingInputMode\":\"File\"},\"validation\":{\"TrainingInputMode\":\"File\"}},\"input_dir\":\"/opt/ml/input\",\"is_master\":true,\"job_name\":\"sagemaker-tensorflow-scriptmode-2020-05-05-19-07-53-406\",\"log_level\":20,\"master_hostname\":\"algo-1-bs0ry\",\"model_dir\":\"/opt/ml/model\",\"module_dir\":\"s3://sagemaker-us-east-1-079329190341/sagemaker-tensorflow-scriptmode-2020-05-05-19-07-53-406/source/sourcedir.tar.gz\",\"module_name\":\"cifar10_keras_main\",\"network_interface_name\":\"eth0\",\"num_cpus\":16,\"num_gpus\":0,\"output_data_dir\":\"/opt/ml/output/data\",\"output_dir\":\"/opt/ml/output\",\"output_intermediate_dir\":\"/opt/ml/output/intermediate\",\"resource_config\":{\"current_host\":\"algo-1-bs0ry\",\"hosts\":[\"algo-1-bs0ry\"]},\"user_entry_point\":\"cifar10_keras_main.py\"}\n",
      "\u001b[36malgo-1-bs0ry_1  |\u001b[0m SM_USER_ARGS=[\"--batch-size\",\"64\",\"--epochs\",\"2\",\"--model_dir\",\"s3://sagemaker-us-east-1-079329190341/sagemaker-tensorflow-scriptmode-2020-05-05-19-07-53-406/model\"]\n",
      "\u001b[36malgo-1-bs0ry_1  |\u001b[0m SM_OUTPUT_INTERMEDIATE_DIR=/opt/ml/output/intermediate\n",
      "\u001b[36malgo-1-bs0ry_1  |\u001b[0m SM_CHANNEL_TRAIN=/opt/ml/input/data/train\n",
      "\u001b[36malgo-1-bs0ry_1  |\u001b[0m SM_CHANNEL_VALIDATION=/opt/ml/input/data/validation\n",
      "\u001b[36malgo-1-bs0ry_1  |\u001b[0m SM_CHANNEL_EVAL=/opt/ml/input/data/eval\n",
      "\u001b[36malgo-1-bs0ry_1  |\u001b[0m SM_HP_EPOCHS=2\n",
      "\u001b[36malgo-1-bs0ry_1  |\u001b[0m SM_HP_BATCH-SIZE=64\n",
      "\u001b[36malgo-1-bs0ry_1  |\u001b[0m SM_HP_MODEL_DIR=s3://sagemaker-us-east-1-079329190341/sagemaker-tensorflow-scriptmode-2020-05-05-19-07-53-406/model\n",
      "\u001b[36malgo-1-bs0ry_1  |\u001b[0m PYTHONPATH=/opt/ml/code:/usr/local/bin:/usr/lib/python36.zip:/usr/lib/python3.6:/usr/lib/python3.6/lib-dynload:/usr/local/lib/python3.6/dist-packages:/usr/lib/python3/dist-packages\n",
      "\u001b[36malgo-1-bs0ry_1  |\u001b[0m \n",
      "\u001b[36malgo-1-bs0ry_1  |\u001b[0m Invoking script with the following command:\n",
      "\u001b[36malgo-1-bs0ry_1  |\u001b[0m \n",
      "\u001b[36malgo-1-bs0ry_1  |\u001b[0m /usr/bin/python cifar10_keras_main.py --batch-size 64 --epochs 2 --model_dir s3://sagemaker-us-east-1-079329190341/sagemaker-tensorflow-scriptmode-2020-05-05-19-07-53-406/model\n",
      "\u001b[36malgo-1-bs0ry_1  |\u001b[0m \n",
      "\u001b[36malgo-1-bs0ry_1  |\u001b[0m \n",
      "\u001b[36malgo-1-bs0ry_1  |\u001b[0m Using TensorFlow backend.\n",
      "\u001b[36malgo-1-bs0ry_1  |\u001b[0m INFO:root:Writing TensorBoard logs to s3://sagemaker-us-east-1-079329190341/sagemaker-tensorflow-scriptmode-2020-05-05-19-07-53-406/model\n",
      "\u001b[36malgo-1-bs0ry_1  |\u001b[0m INFO:root:Running with MPI=False\n",
      "\u001b[36malgo-1-bs0ry_1  |\u001b[0m INFO:root:getting data\n",
      "\u001b[36malgo-1-bs0ry_1  |\u001b[0m INFO:root:Running train in File mode\n",
      "\u001b[36malgo-1-bs0ry_1  |\u001b[0m INFO:root:Running eval in File mode\n",
      "\u001b[36malgo-1-bs0ry_1  |\u001b[0m INFO:root:Running validation in File mode\n",
      "\u001b[36malgo-1-bs0ry_1  |\u001b[0m INFO:root:configuring model\n",
      "\u001b[36malgo-1-bs0ry_1  |\u001b[0m INFO:root:Starting training\n",
      "\u001b[36malgo-1-bs0ry_1  |\u001b[0m Train on 64 samples, validate on 64 samples\n",
      "\u001b[36malgo-1-bs0ry_1  |\u001b[0m Epoch 1/2\n",
      "625/625 [==============================] - 47s 76ms/step - loss: 1.8107 - acc: 0.3334 - val_loss: 3.1090 - val_acc: 0.2123\n",
      "\u001b[36malgo-1-bs0ry_1  |\u001b[0m Epoch 2/2\n",
      "625/625 [==============================] - 41s 66ms/step - loss: 1.4147 - acc: 0.4834 - val_loss: 1.2245 - val_acc: 0.5441\n",
      "\u001b[36malgo-1-bs0ry_1  |\u001b[0m INFO:root:Test loss:1.2422301711944432\n",
      "\u001b[36malgo-1-bs0ry_1  |\u001b[0m INFO:root:Test accuracy:0.5390625\n",
      "\u001b[36malgo-1-bs0ry_1  |\u001b[0m INFO:tensorflow:No assets to save.\n",
      "\u001b[36malgo-1-bs0ry_1  |\u001b[0m INFO:tensorflow:No assets to save.\n",
      "\u001b[36malgo-1-bs0ry_1  |\u001b[0m INFO:tensorflow:No assets to write.\n",
      "\u001b[36malgo-1-bs0ry_1  |\u001b[0m INFO:tensorflow:No assets to write.\n",
      "\u001b[36malgo-1-bs0ry_1  |\u001b[0m INFO:tensorflow:SavedModel written to: /opt/ml/model/1/saved_model.pb\n",
      "\u001b[36malgo-1-bs0ry_1  |\u001b[0m INFO:tensorflow:SavedModel written to: /opt/ml/model/1/saved_model.pb\n",
      "\u001b[36malgo-1-bs0ry_1  |\u001b[0m INFO:root:Model successfully saved at: /opt/ml/model\n",
      "\u001b[36malgo-1-bs0ry_1  |\u001b[0m 2020-05-05 19:09:46,070 sagemaker-containers INFO     Reporting training SUCCESS\n",
      "\u001b[36mtmpiaba668c_algo-1-bs0ry_1 exited with code 0\n",
      "\u001b[0mAborting on container exit...\n",
      "===== Job Complete =====\n"
     ]
    }
   ],
   "source": [
    "local_inputs = {'train' : 'file://'+os.getcwd()+'/data/train', \n",
    "                'validation' : 'file://'+os.getcwd()+'/data/validation', \n",
    "                'eval' : 'file://'+os.getcwd()+'/data/eval'}\n",
    "estimator.fit(local_inputs)"
   ]
  }
 ],
 "metadata": {
  "instance_type": "ml.g4dn.xlarge",
  "kernelspec": {
   "display_name": "conda_tensorflow_p36",
   "language": "python",
   "name": "conda_tensorflow_p36"
  },
  "language_info": {
   "codemirror_mode": {
    "name": "ipython",
    "version": 3
   },
   "file_extension": ".py",
   "mimetype": "text/x-python",
   "name": "python",
   "nbconvert_exporter": "python",
   "pygments_lexer": "ipython3",
   "version": "3.6.5"
  },
  "notice": "Copyright 2017 Amazon.com, Inc. or its affiliates. All Rights Reserved.  Licensed under the Apache License, Version 2.0 (the \"License\"). You may not use this file except in compliance with the License. A copy of the License is located at http://aws.amazon.com/apache2.0/ or in the \"license\" file accompanying this file. This file is distributed on an \"AS IS\" BASIS, WITHOUT WARRANTIES OR CONDITIONS OF ANY KIND, either express or implied. See the License for the specific language governing permissions and limitations under the License.",
  "pycharm": {
   "stem_cell": {
    "cell_type": "raw",
    "metadata": {
     "collapsed": false
    },
    "source": []
   }
  }
 },
 "nbformat": 4,
 "nbformat_minor": 4
}
